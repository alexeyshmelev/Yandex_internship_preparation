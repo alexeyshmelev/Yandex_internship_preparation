{
 "cells": [
  {
   "cell_type": "code",
   "execution_count": 1,
   "id": "8b5d5eef",
   "metadata": {},
   "outputs": [],
   "source": [
    "import numpy as np\n",
    "from matplotlib import pyplot as plt\n",
    "import tensorflow as tf\n",
    "import os"
   ]
  },
  {
   "cell_type": "code",
   "execution_count": 2,
   "id": "459ffd8f",
   "metadata": {},
   "outputs": [
    {
     "name": "stdout",
     "output_type": "stream",
     "text": [
      "We're using TF 2.8.0\n",
      "Model: \"model\"\n",
      "_________________________________________________________________\n",
      " Layer (type)                Output Shape              Param #   \n",
      "=================================================================\n",
      " flatten (Flatten)           (None, 1792)              0         \n",
      "                                                                 \n",
      " dense (Dense)               (None, 28, 1024)          29696     \n",
      "                                                                 \n",
      " dense_1 (Dense)             (None, 28, 512)           524800    \n",
      "                                                                 \n",
      " dense_2 (Dense)             (None, 28, 128)           65664     \n",
      "                                                                 \n",
      " dense_3 (Dense)             (None, 28, 64)            8256      \n",
      "                                                                 \n",
      " dense_4 (Dense)             (None, 10)                17930     \n",
      "                                                                 \n",
      "=================================================================\n",
      "Total params: 646,346\n",
      "Trainable params: 646,346\n",
      "Non-trainable params: 0\n",
      "_________________________________________________________________\n"
     ]
    }
   ],
   "source": [
    "print(\"We're using TF\", tf.__version__)\n",
    "\n",
    "def load_dataset():\n",
    "\n",
    "    (X_train, y_train), (X_test, y_test) = tf.keras.datasets.mnist.load_data()\n",
    "\n",
    "    # normalize x\n",
    "    X_train = X_train.astype(float) / 255.\n",
    "    X_test = X_test.astype(float) / 255.\n",
    "\n",
    "    # we reserve the last 10000 training examples for validation\n",
    "    X_train, X_val = X_train[:-10000], X_train[-10000:]\n",
    "    y_train, y_val = y_train[:-10000], y_train[-10000:]\n",
    "\n",
    "    return X_train, y_train, X_val, y_val\n",
    "\n",
    "\n",
    "class DataGen(tf.keras.utils.Sequence):\n",
    "    def __init__(self, cond):\n",
    "        self.cond = cond\n",
    "        self.X_train, self.y_train, self.X_val, self.y_val = load_dataset()\n",
    "        self.on_epoch_end()\n",
    "\n",
    "    def on_epoch_end(self):\n",
    "        if self.cond:\n",
    "            randomize = np.arange(len(self.X_train))\n",
    "            np.random.shuffle(randomize)\n",
    "            self.X_train = self.X_train[randomize]\n",
    "            self.y_train = self.y_train[randomize]\n",
    "        else:\n",
    "            randomize = np.arange(len(self.X_val))\n",
    "            np.random.shuffle(randomize)\n",
    "            self.X_val = self.X_val[randomize]\n",
    "            self.y_val = self.y_val[randomize]\n",
    "\n",
    "    def __getitem__(self, item):\n",
    "        if self.cond:\n",
    "            return np.expand_dims(self.X_train[item], axis=0), np.array([self.y_train[item]])\n",
    "        else:\n",
    "            return np.expand_dims(self.X_val[item], axis=0), np.array([self.y_val[item]])\n",
    "\n",
    "    def __len__(self):\n",
    "        if self.cond:\n",
    "            return len(self.X_train)\n",
    "        else:\n",
    "            return len(self.X_val)\n",
    "\n",
    "\n",
    "class Model(tf.keras.Model):\n",
    "    def __init__(self):\n",
    "        super(Model, self).__init__()\n",
    "\n",
    "        self.flat = tf.keras.layers.Flatten()\n",
    "\n",
    "        self.dense1 = tf.keras.layers.Dense(1024, activation='relu')\n",
    "        self.dense2 = tf.keras.layers.Dense(512, activation='relu')\n",
    "        self.dense3 = tf.keras.layers.Dense(128, activation='relu')\n",
    "        self.dense4 = tf.keras.layers.Dense(64, activation='relu')\n",
    "        self.dense5 = tf.keras.layers.Dense(10, activation='softmax')\n",
    "        # self.batch1 = tf.keras.layers.BatchNormalization() # разобрать, как работает\n",
    "\n",
    "    def call(self, src):\n",
    "\n",
    "        output = self.dense1(src)\n",
    "        output = self.dense2(output)\n",
    "        output = self.dense3(output)\n",
    "        output = self.dense4(output)\n",
    "\n",
    "        output = self.flat(output)\n",
    "\n",
    "        output = self.dense5(output)\n",
    "\n",
    "        return output\n",
    "\n",
    "    def build_graph(self):\n",
    "        self.build((1, 28, 28))\n",
    "        inputs = tf.keras.Input(shape=[28, 28])\n",
    "        self.call(inputs)\n",
    "\n",
    "\n",
    "model = Model()\n",
    "model.build_graph()\n",
    "model.compile(optimizer=tf.keras.optimizers.Adam(learning_rate=0.001), loss=tf.keras.losses.SparseCategoricalCrossentropy(), metrics=[tf.keras.metrics.SparseCategoricalAccuracy()])\n",
    "model.summary()\n",
    "\n",
    "train_data = DataGen(True)\n",
    "val_data = DataGen(False)\n",
    "\n",
    "model.load_weights(\"saved_network.hdf5\")"
   ]
  },
  {
   "cell_type": "code",
   "execution_count": 7,
   "id": "f290a9bd",
   "metadata": {},
   "outputs": [
    {
     "name": "stdout",
     "output_type": "stream",
     "text": [
      "8 8\n"
     ]
    },
    {
     "data": {
      "image/png": "[encoded data removed]",
      "text/plain": [
       "<Figure size 432x288 with 1 Axes>"
      ]
     },
     "metadata": {
      "needs_background": "light"
     },
     "output_type": "display_data"
    }
   ],
   "source": [
    "X_train, y_train, X_val, y_val = load_dataset()\n",
    "\n",
    "num = 1\n",
    "\n",
    "prediction = model(np.expand_dims(X_val[num], axis=0))\n",
    "true = y_val[num]\n",
    "print(np.argmax(prediction), true)\n",
    "\n",
    "plt.clf()\n",
    "plt.imshow(X_val[num])\n",
    "plt.show()"
   ]
  },
  {
   "cell_type": "code",
   "execution_count": null,
   "id": "fe69e11e",
   "metadata": {},
   "outputs": [],
   "source": []
  }
 ],
 "metadata": {
  "kernelspec": {
   "display_name": "Python 3 (ipykernel)",
   "language": "python",
   "name": "python3"
  },
  "language_info": {
   "codemirror_mode": {
    "name": "ipython",
    "version": 3
   },
   "file_extension": ".py",
   "mimetype": "text/x-python",
   "name": "python",
   "nbconvert_exporter": "python",
   "pygments_lexer": "ipython3",
   "version": "3.9.7"
  }
 },
 "nbformat": 4,
 "nbformat_minor": 5
}
